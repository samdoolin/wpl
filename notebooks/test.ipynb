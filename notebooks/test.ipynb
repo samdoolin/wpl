{
 "cells": [
  {
   "cell_type": "code",
   "execution_count": null,
   "metadata": {},
   "outputs": [],
   "source": [
    "import hvplot.pandas\n",
    "import numpy as np\n",
    "import pandas as pd\n",
    "import panel as pn\n",
    "\n",
    "PRIMARY_COLOR = \"#0072B5\"\n",
    "SECONDARY_COLOR = \"#B54300\"\n",
    "CSV_FILE = (\n",
    "    \"https://raw.githubusercontent.com/holoviz/panel/main/examples/assets/occupancy.csv\"\n",
    ")"
   ]
  },
  {
   "cell_type": "code",
   "execution_count": null,
   "metadata": {},
   "outputs": [],
   "source": [
    "pn.extension(design=\"material\", sizing_mode=\"stretch_width\")"
   ]
  },
  {
   "cell_type": "code",
   "execution_count": null,
   "metadata": {},
   "outputs": [],
   "source": [
    "@pn.cache\n",
    "def get_data():\n",
    "  return pd.read_csv(CSV_FILE, parse_dates=[\"date\"], index_col=\"date\")\n",
    "\n",
    "data = get_data()\n",
    "\n",
    "data.tail()"
   ]
  },
  {
   "cell_type": "code",
   "execution_count": null,
   "metadata": {},
   "outputs": [],
   "source": [
    "def transform_data(variable, window, sigma):\n",
    "    \"\"\"Calculates the rolling average and identifies outliers\"\"\"\n",
    "    avg = data[variable].rolling(window=window).mean()\n",
    "    residual = data[variable] - avg\n",
    "    std = residual.rolling(window=window).std()\n",
    "    outliers = np.abs(residual) > std * sigma\n",
    "    return avg, avg[outliers]\n",
    "\n",
    "\n",
    "def get_plot(variable=\"Temperature\", window=30, sigma=10):\n",
    "    \"\"\"Plots the rolling average and the outliers\"\"\"\n",
    "    avg, highlight = transform_data(variable, window, sigma)\n",
    "    return avg.hvplot(\n",
    "        height=300, legend=False, color=PRIMARY_COLOR\n",
    "    ) * highlight.hvplot.scatter(color=SECONDARY_COLOR, padding=0.1, legend=False)"
   ]
  },
  {
   "cell_type": "code",
   "execution_count": null,
   "metadata": {},
   "outputs": [],
   "source": [
    "get_plot(variable='Temperature', window=20, sigma=10)"
   ]
  },
  {
   "cell_type": "code",
   "execution_count": null,
   "metadata": {},
   "outputs": [],
   "source": [
    "variable_widget = pn.widgets.Select(name=\"variable\", value=\"Temperature\", options=list(data.columns))\n",
    "window_widget = pn.widgets.IntSlider(name=\"window\", value=30, start=1, end=60)\n",
    "sigma_widget = pn.widgets.IntSlider(name=\"sigma\", value=10, start=0, end=20)"
   ]
  },
  {
   "cell_type": "code",
   "execution_count": null,
   "metadata": {},
   "outputs": [],
   "source": [
    "bound_plot = pn.bind(\n",
    "    get_plot, variable=variable_widget, window=window_widget, sigma=sigma_widget\n",
    ")"
   ]
  },
  {
   "cell_type": "code",
   "execution_count": null,
   "metadata": {},
   "outputs": [],
   "source": [
    "widgets = pn.Column(variable_widget, window_widget, sigma_widget, sizing_mode=\"fixed\", width=300)\n",
    "pn.Column(widgets, bound_plot)"
   ]
  },
  {
   "cell_type": "code",
   "execution_count": null,
   "metadata": {},
   "outputs": [],
   "source": [
    "pn.template.MaterialTemplate(\n",
    "    site=\"Panel\",\n",
    "    title=\"Getting Started App\",\n",
    "    sidebar=[variable_widget, window_widget, sigma_widget],\n",
    "    main=[bound_plot],\n",
    ").servable();"
   ]
  },
  {
   "cell_type": "code",
   "execution_count": null,
   "metadata": {},
   "outputs": [],
   "source": []
  }
 ],
 "metadata": {
  "kernelspec": {
   "display_name": "wpl",
   "language": "python",
   "name": "python3"
  },
  "language_info": {
   "codemirror_mode": {
    "name": "ipython",
    "version": 3
   },
   "file_extension": ".py",
   "mimetype": "text/x-python",
   "name": "python",
   "nbconvert_exporter": "python",
   "pygments_lexer": "ipython3",
   "version": "3.12.7"
  }
 },
 "nbformat": 4,
 "nbformat_minor": 2
}
